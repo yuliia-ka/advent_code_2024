{
 "cells": [
  {
   "cell_type": "code",
   "execution_count": 1,
   "metadata": {},
   "outputs": [],
   "source": [
    "import numpy as np\n",
    "from itertools import chain\n",
    "from collections import Counter"
   ]
  },
  {
   "cell_type": "code",
   "execution_count": 29,
   "metadata": {},
   "outputs": [],
   "source": [
    "with open('data_input.txt') as f:\n",
    "    input_lines = f.readlines()\n",
    "\n",
    "input_lines = [a.replace('\\n','').split(\" \") for a in input_lines ]\n",
    "input_lines[:10]\n",
    "\n",
    "input_lines = [[int(b) for b in a ]for a in input_lines ]"
   ]
  },
  {
   "cell_type": "code",
   "execution_count": 35,
   "metadata": {},
   "outputs": [
    {
     "data": {
      "text/plain": [
       "1000"
      ]
     },
     "execution_count": 35,
     "metadata": {},
     "output_type": "execute_result"
    }
   ],
   "source": [
    "len(input_lines)"
   ]
  },
  {
   "cell_type": "code",
   "execution_count": 36,
   "metadata": {},
   "outputs": [
    {
     "data": {
      "text/plain": [
       "[[44, 47, 50, 51, 53, 54, 53],\n",
       " [70, 73, 75, 77, 80, 81, 84, 84],\n",
       " [1, 3, 4, 7, 10, 13, 16, 20],\n",
       " [47, 49, 52, 53, 55, 57, 60, 65],\n",
       " [69, 70, 71, 70, 71],\n",
       " [22, 23, 20, 21, 24, 27, 24],\n",
       " [90, 92, 93, 94, 95, 93, 94, 94],\n",
       " [16, 18, 15, 16, 20],\n",
       " [47, 48, 51, 50, 55],\n",
       " [27, 28, 31, 31, 32, 34]]"
      ]
     },
     "execution_count": 36,
     "metadata": {},
     "output_type": "execute_result"
    }
   ],
   "source": [
    "input_lines[0:10]"
   ]
  },
  {
   "cell_type": "code",
   "execution_count": 39,
   "metadata": {},
   "outputs": [
    {
     "data": {
      "text/plain": [
       "591"
      ]
     },
     "execution_count": 39,
     "metadata": {},
     "output_type": "execute_result"
    }
   ],
   "source": [
    "safe_number = 0\n",
    "\n",
    "for a in input_lines:\n",
    "    diffs = np.diff(a)\n",
    "    if (np.all(diffs > 0)) | (np.all(diffs<0)):\n",
    "        if (np.all(abs(diffs) > 0)) & (np.all(abs(diffs) < 4)):\n",
    "            safe_number += 1\n",
    "\n",
    "safe_number"
   ]
  },
  {
   "cell_type": "code",
   "execution_count": 45,
   "metadata": {},
   "outputs": [
    {
     "ename": "NameError",
     "evalue": "name 'sign' is not defined",
     "output_type": "error",
     "traceback": [
      "\u001b[1;31m---------------------------------------------------------------------------\u001b[0m",
      "\u001b[1;31mNameError\u001b[0m                                 Traceback (most recent call last)",
      "Cell \u001b[1;32mIn[45], line 2\u001b[0m\n\u001b[0;32m      1\u001b[0m \u001b[38;5;66;03m# diffs make binary for if positive or negative\u001b[39;00m\n\u001b[1;32m----> 2\u001b[0m \u001b[43msign\u001b[49m(\u001b[38;5;241m1\u001b[39m)\n",
      "\u001b[1;31mNameError\u001b[0m: name 'sign' is not defined"
     ]
    }
   ],
   "source": [
    "# diffs make binary for if positive or negative\n",
    "sign(1)"
   ]
  },
  {
   "cell_type": "code",
   "execution_count": 47,
   "metadata": {},
   "outputs": [
    {
     "data": {
      "text/plain": [
       "[1, 1, 1, 1, 1]"
      ]
     },
     "execution_count": 47,
     "metadata": {},
     "output_type": "execute_result"
    }
   ],
   "source": [
    "[1 if a > 0 else -1 for a in diffs]"
   ]
  },
  {
   "cell_type": "code",
   "execution_count": 52,
   "metadata": {},
   "outputs": [
    {
     "ename": "SyntaxError",
     "evalue": "invalid syntax. Perhaps you forgot a comma? (1700382426.py, line 1)",
     "output_type": "error",
     "traceback": [
      "\u001b[1;36m  Cell \u001b[1;32mIn[52], line 1\u001b[1;36m\u001b[0m\n\u001b[1;33m    sign_diffs = [1 if a > 0 else (-1 if x < 0 else 0 for x in diffs) 0 for a in diffs]\u001b[0m\n\u001b[1;37m                                  ^\u001b[0m\n\u001b[1;31mSyntaxError\u001b[0m\u001b[1;31m:\u001b[0m invalid syntax. Perhaps you forgot a comma?\n"
     ]
    }
   ],
   "source": [
    "sign_diffs = [1 if a > 0 else (-1 if x < 0 else 0 for x in diffs) 0 for a in diffs]\n",
    "Counter(sign_diffs)"
   ]
  },
  {
   "cell_type": "code",
   "execution_count": null,
   "metadata": {},
   "outputs": [
    {
     "data": {
      "text/plain": [
       "array([1, 1, 3, 1, 3])"
      ]
     },
     "execution_count": 38,
     "metadata": {},
     "output_type": "execute_result"
    }
   ],
   "source": [
    "# Part 2\n",
    "\n",
    "safe_number = 0\n",
    "\n",
    "for a in input_lines:\n",
    "    diffs = np.diff(a)\n",
    "    sign_diffs = [1 if a > 0 elif -1 for a in diffs else 0]\n",
    "    counter = Counter(sign_diffs)\n",
    "    if \n",
    "    if (np.all(diffs > 0)) | (np.all(diffs<0)):\n",
    "        if (np.all(abs(diffs) > 0)) & (np.all(abs(diffs) < 4)):\n",
    "            safe_number += 1\n",
    "\n",
    "safe_number\n",
    "\n"
   ]
  },
  {
   "cell_type": "code",
   "execution_count": 43,
   "metadata": {},
   "outputs": [
    {
     "data": {
      "text/plain": [
       "2"
      ]
     },
     "execution_count": 43,
     "metadata": {},
     "output_type": "execute_result"
    }
   ],
   "source": [
    "Counter([0,1,2,3,4,1,2,3,4,5]).most_common(2)[1][1]"
   ]
  }
 ],
 "metadata": {
  "kernelspec": {
   "display_name": "Python 3",
   "language": "python",
   "name": "python3"
  },
  "language_info": {
   "codemirror_mode": {
    "name": "ipython",
    "version": 3
   },
   "file_extension": ".py",
   "mimetype": "text/x-python",
   "name": "python",
   "nbconvert_exporter": "python",
   "pygments_lexer": "ipython3",
   "version": "3.11.9"
  }
 },
 "nbformat": 4,
 "nbformat_minor": 2
}
